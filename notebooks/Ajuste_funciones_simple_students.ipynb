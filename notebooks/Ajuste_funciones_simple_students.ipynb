{
 "cells": [
  {
   "cell_type": "markdown",
   "id": "e28b3f35-dda5-4643-8da6-075ba4611ad2",
   "metadata": {},
   "source": [
    "Fermín Huarte, Noviembre 2023\n",
    "## Ajuste lineal: cinética de segundo orden\n",
    "\n",
    "Como primer ejemplo consideramos la cinética de una reacción de segundo orden como la hidrólisis del acetato de etilo en medio básico:\n",
    "$$\n",
    "CH_3COO-CH_2CH_3 + OH^- \\leftrightarrow CH_3COO^- + CH_3CH_2OH\n",
    "$$\n",
    "que sigue una ley cinética del tipo:\n",
    "$$\n",
    "v = \\frac{-d[AcEt]}{dt} = k [AcEt][OH^-]\n",
    "$$\n",
    "Se puede comprobar que, en esta reacción, si preparamos concentraciones iniciales _identicamente iguales_ para ambos reactivos y dado que la estequimetría de la reacción es 1 a 1, las concentraciones de ambos reactivos serán iguales en todo momento y podemos escribir:\n",
    "$$\n",
    "v = \\frac{-d[AcEt]}{dt} = k [AcEt]^2\n",
    "$$\n",
    "Esta _ley diferencial_ se puede integrar para obtener la ley integral:\n",
    "$$\n",
    "\\frac{1}{[AcEt]} = \\frac{1}{[AcEt]_0} + k t\n",
    "$$\n",
    "\n",
    "**Primer ejercicio**\n",
    "\n",
    "Construir un programa que lea los ficheros (Numpy) `kinetics_conc.dat` (concentración del reactivo en mol l$^{-1}$) i `kinetics_time.dat`(tiempo de reacción en s) que *tenéis que descargar previamente*. A continuación debéis realizar una figura con dos paneles: \n",
    "- panel izquierdo: representar concentracion vs. tiempo\n",
    "- panel derecho: representar 1/concentracion vs. tiempo\n",
    "\n",
    "Dado que son resultados experimentales, los representaremos mediante símbolos, no lineas. Etiquetar correctamente ejes y gráficos"
   ]
  },
  {
   "cell_type": "code",
   "execution_count": null,
   "id": "14347f0d-65da-44f7-95e9-6acf5c250509",
   "metadata": {},
   "outputs": [],
   "source": []
  },
  {
   "cell_type": "markdown",
   "id": "05f7e664-25d4-48d7-83bc-bd7c61f8db69",
   "metadata": {},
   "source": [
    "**Segundo ejercicio**\n",
    "\n",
    "- Usar la función `np.polyfit`(buscar documentación) para ajustar a una recta los datos de $\\frac{1}{[A]} \\; vs. \\; t$.\n",
    "\n",
    "- Escribir el valor de la constante cinética (pendiente de la recta)\n",
    "\n",
    "- Evaluar la función ajustada para 30 valores equiespaciados de tiempo entre 0 i 120 segundos.\n",
    "\n",
    "- Representar en una única figura $\\frac{1}{[A]} \\; vs. \\; t$ para los datos experimentales (símbolos) y el ajuste (linea). Utilizar una leyenda para distinguir la información.\n"
   ]
  },
  {
   "cell_type": "code",
   "execution_count": null,
   "id": "314c00ff-3e6e-4742-a8cc-f724b1b9b84b",
   "metadata": {},
   "outputs": [],
   "source": []
  },
  {
   "cell_type": "markdown",
   "id": "d81efcef-85af-400e-8b8e-0121640e1d03",
   "metadata": {
    "tags": []
   },
   "source": [
    "Fermín Huarte, Noviembre 2023\n",
    "## Ajuste lineal: curva de Morse\n",
    "\n",
    "Descargar el fichero `HCl_scan_HFSTO3G.txt` y leerlo (Numpy) como un array 2D. El fichero contiene valores de la energía potencial de la molécula de HCl para distintos valores de la distancia internuclear. Vamos a ajustar los valores de energía a una función de tipo [Morse](https://en.wikipedia.org/wiki/Morse_potential):\n",
    "\n",
    "$V(r) = D_e \\left ( 1 - e^{-\\alpha(r-r_0)} \\right) ^2$\n",
    "\n",
    "usando el módulo `scipy.optimize` (SciPy) y su función curve_fit para el ajuste.\n"
   ]
  },
  {
   "cell_type": "code",
   "execution_count": null,
   "id": "378ee91d-11fa-4a56-9179-83059643d888",
   "metadata": {},
   "outputs": [],
   "source": []
  }
 ],
 "metadata": {
  "kernelspec": {
   "display_name": "Python 3 (ipykernel)",
   "language": "python",
   "name": "python3"
  },
  "language_info": {
   "codemirror_mode": {
    "name": "ipython",
    "version": 3
   },
   "file_extension": ".py",
   "mimetype": "text/x-python",
   "name": "python",
   "nbconvert_exporter": "python",
   "pygments_lexer": "ipython3",
   "version": "3.11.4"
  }
 },
 "nbformat": 4,
 "nbformat_minor": 5
}
